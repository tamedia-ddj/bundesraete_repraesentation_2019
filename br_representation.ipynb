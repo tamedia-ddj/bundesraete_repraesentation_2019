{
 "cells": [
  {
   "cell_type": "markdown",
   "metadata": {},
   "source": [
    "# Bundesrat Repraesentation"
   ]
  },
  {
   "cell_type": "markdown",
   "metadata": {},
   "source": [
    "Analyse der Bundesräte zwischen 1848 und 2019 auf Basis folgender Faktoren:\n",
    "- Herkunft - familiär (vermögend/akademisch)\n",
    "- Geschlecht\n",
    "- Alter\n",
    "- Parteizugehörigkeit\n",
    "- Herkunft - geographisch (Kanton / Region)"
   ]
  },
  {
   "cell_type": "markdown",
   "execution_count": 973,
   "metadata": {},
   "outputs": [
    {
     "ename": "SyntaxError",
     "evalue": "invalid syntax (<ipython-input-973-29e0c3615294>, line 1)",
     "output_type": "error",
     "traceback": [
      "\u001b[0;36m  File \u001b[0;32m\"<ipython-input-973-29e0c3615294>\"\u001b[0;36m, line \u001b[0;32m1\u001b[0m\n\u001b[0;31m    ---\u001b[0m\n\u001b[0m       ^\u001b[0m\n\u001b[0;31mSyntaxError\u001b[0m\u001b[0;31m:\u001b[0m invalid syntax\n"
     ]
    }
   ],
   "source": [
    "---"
   ]
  },
  {
   "cell_type": "code",
   "execution_count": 2,
   "metadata": {},
   "outputs": [],
   "source": [
    "# import libraries\n",
    "import pandas as pd\n",
    "import numpy as np\n",
    "from datetime import datetime\n",
    "import os"
   ]
  },
  {
   "cell_type": "code",
   "execution_count": 1000,
   "metadata": {},
   "outputs": [],
   "source": [
    "# import list of federal council from wikipedia de and wikipedia en\n",
    "link = \"https://de.wikipedia.org/wiki/Liste_der_Mitglieder_des_Schweizerischen_Bundesrates\"\n",
    "bundesraete = pd.read_html(link,header=0)[0]\n",
    "link = \"https://en.wikipedia.org/wiki/List_of_members_of_the_Swiss_Federal_Council\"\n",
    "federal_council = pd.read_html(link, header=0)[0]"
   ]
  },
  {
   "cell_type": "code",
   "execution_count": 1001,
   "metadata": {},
   "outputs": [],
   "source": [
    "# merge the two wikipedia tables\n",
    "council_merge = pd.merge(bundesraete, federal_council[[\"Name\", \"Election\", \"Left office\", \"Party\", \"Seq[6]\"]], on=\"Name\", how=\"left\")"
   ]
  },
  {
   "cell_type": "code",
   "execution_count": 1002,
   "metadata": {},
   "outputs": [
    {
     "data": {
      "text/html": "<div>\n<style scoped>\n    .dataframe tbody tr th:only-of-type {\n        vertical-align: middle;\n    }\n\n    .dataframe tbody tr th {\n        vertical-align: top;\n    }\n\n    .dataframe thead th {\n        text-align: right;\n    }\n</style>\n<table border=\"1\" class=\"dataframe\">\n  <thead>\n    <tr style=\"text-align: right;\">\n      <th></th>\n      <th>Jahr</th>\n      <th>Bild</th>\n      <th>Name</th>\n      <th>Lebensdaten</th>\n      <th>Kanton</th>\n      <th>Partei</th>\n      <th>Election</th>\n      <th>Left office</th>\n      <th>Party</th>\n      <th>Seq[6]</th>\n    </tr>\n  </thead>\n  <tbody>\n    <tr>\n      <th>9</th>\n      <td>1855–1875</td>\n      <td>NaN</td>\n      <td>Josef Martin Knüsel</td>\n      <td>1813–1889</td>\n      <td>Luzern</td>\n      <td>freis.</td>\n      <td>NaN</td>\n      <td>NaN</td>\n      <td>NaN</td>\n      <td>NaN</td>\n    </tr>\n    <tr>\n      <th>35</th>\n      <td>1900–1912</td>\n      <td>NaN</td>\n      <td>Marc Ruchet</td>\n      <td>1853–1912</td>\n      <td>Waadt</td>\n      <td>FDP</td>\n      <td>NaN</td>\n      <td>NaN</td>\n      <td>NaN</td>\n      <td>NaN</td>\n    </tr>\n  </tbody>\n</table>\n</div>",
      "text/plain": "         Jahr  Bild                 Name Lebensdaten  Kanton  Partei Election  \\\n9   1855–1875   NaN  Josef Martin Knüsel   1813–1889  Luzern  freis.      NaN   \n35  1900–1912   NaN          Marc Ruchet   1853–1912   Waadt     FDP      NaN   \n\n   Left office Party Seq[6]  \n9          NaN   NaN    NaN  \n35         NaN   NaN    NaN  "
     },
     "execution_count": 1002,
     "metadata": {},
     "output_type": "execute_result"
    }
   ],
   "source": [
    "# check for cases where the merge on name did'nt work\n",
    "council_merge[pd.isna(council_merge.Election)]"
   ]
  },
  {
   "cell_type": "code",
   "execution_count": 1003,
   "metadata": {},
   "outputs": [],
   "source": [
    "# fix data by hand\n",
    "council_merge.loc[council_merge.Name == \"Josef Martin Knüsel\", \"Election\"] = \"14 July 1855\"\n",
    "council_merge.loc[council_merge.Name == \"Josef Martin Knüsel\", \"Left office\"] = \"31 December 1875\"\n",
    "council_merge.loc[council_merge.Name == \"Josef Martin Knüsel\", \"Party\"] = \"FDP/PRD\"\n",
    "council_merge.loc[council_merge.Name == \"Josef Martin Knüsel\", \"Seq[6]\"] = \"D02\"\n",
    "\n",
    "council_merge.loc[council_merge.Name == \"Marc Ruchet\", \"Election\"] = \"14 December 1899\"\n",
    "council_merge.loc[council_merge.Name == \"Marc Ruchet\", \"Left office\"] = \"9 July 1912\"\n",
    "council_merge.loc[council_merge.Name == \"Marc Ruchet\", \"Party\"] = \"FDP/PRD\"\n",
    "council_merge.loc[council_merge.Name == \"Marc Ruchet\", \"Seq[6]\"] = \"G05\""
   ]
  },
  {
   "cell_type": "code",
   "execution_count": 1004,
   "metadata": {},
   "outputs": [],
   "source": [
    "# transform dates to datetime format\n",
    "council_merge.Election = council_merge.Election.apply(lambda x: datetime.strptime(x, \"%d %B %Y\"))\n",
    "council_merge[\"Left office\"] = council_merge[\"Left office\"].apply(lambda x: \"amtierend\" if (x == \"Incumbent\") else datetime.strptime(x.split(\"[\")[0], \"%d %B %Y\"))"
   ]
  },
  {
   "cell_type": "code",
   "execution_count": 1005,
   "metadata": {},
   "outputs": [],
   "source": [
    "# drop unused columns\n",
    "council_merge.drop([\"Bild\", \"Partei\"], axis=1, inplace=True)"
   ]
  },
  {
   "cell_type": "code",
   "execution_count": 4,
   "metadata": {},
   "outputs": [],
   "source": [
    "# Export data to edit manually (don't execute anymore!)\n",
    "#### council_merge.to_csv('internal/data_edit.csv', index=False)"
   ]
  },
  {
   "cell_type": "code",
   "execution_count": 3,
   "metadata": {},
   "outputs": [],
   "source": [
    "# import modified data & clean data\n",
    "council_merge = pd.read_csv('internal/data_edit.csv')\n",
    "council_merge.Election = council_merge.Election.apply(lambda x: datetime.strptime(x, '%Y-%m-%d'))\n",
    "council_merge[\"Left office\"] = council_merge[\"Left office\"].apply(lambda x: datetime.today() if (x == \"amtierend\") else datetime.strptime(x, '%Y-%m-%d %H:%M:%S'))\n",
    "council_merge['birthyear'] = council_merge['Lebensdaten'].apply(lambda x: x[0:4] if len(x) > 8 else x[2:6])\n",
    "council_merge['seat'] = council_merge['Seq'].str[0:1]\n",
    "council_merge['Entered office'] = council_merge.Jahr.apply(lambda x: datetime.strptime(x[0:4], '%Y'))\n",
    "council_merge['family'] = (council_merge.Reichtum == 1) | (council_merge['Akad-Familie'] == 1)"
   ]
  },
  {
   "cell_type": "markdown",
   "metadata": {},
   "source": [
    "---"
   ]
  },
  {
   "cell_type": "markdown",
   "execution_count": 12,
   "metadata": {},
   "outputs": [
    {
     "data": {
      "text/plain": [
       "0    65\n",
       "1    54\n",
       "Name: Reichtum, dtype: int64"
      ]
     },
     "execution_count": 12,
     "metadata": {},
     "output_type": "execute_result"
    }
   ],
   "source": [
    "### Zusammenstellung des Bundesrats für einzelne Jahre ermitteln"
   ]
  },
  {
   "cell_type": "code",
   "execution_count": 4,
   "metadata": {},
   "outputs": [
    {
     "name": "stdout",
     "output_type": "stream",
     "text": "1867: 8\n1893: 6\n1902: 6\n1983: 6\n1995: 8\n2009: 8\n2010: 9\n2017: 8\n"
    }
   ],
   "source": [
    "# calculate year with wrong number of BRs\n",
    "for year in range(1848,2019):\n",
    "    temp = council_merge[(council_merge['Entered office'] <= '{}-11-30'.format(year)) & ((council_merge['Left office'] > '{}-10-30'.format(year)))]\n",
    "    if (len(temp) != 7):\n",
    "        print(\"{}: {}\".format(year, len(temp)))"
   ]
  },
  {
   "cell_type": "code",
   "execution_count": 5,
   "metadata": {},
   "outputs": [],
   "source": [
    "### fix data\n",
    "# 1867\n",
    "council_merge.loc[15, \"Entered office\"] = datetime(1868, 1, 1, 0, 0)\n",
    "# 1893\n",
    "council_merge.loc[25, \"Left office\"] = datetime(1893, 12, 30, 0, 0)\n",
    "# 1902\n",
    "council_merge.loc[27, \"Left office\"] = datetime(1902, 12, 30, 0, 0)\n",
    "# 1983\n",
    "council_merge.loc[83, \"Left office\"] = datetime(1983, 12, 30, 0, 0)\n",
    "# 1984\n",
    "council_merge.loc[90, \"Left office\"] = datetime(1984, 12, 30, 0, 0)\n",
    "council_merge.loc[93, \"Entered office\"] = datetime(1985, 1, 1, 0, 0)\n",
    "# 1995\n",
    "council_merge.loc[100, \"Entered office\"] = datetime(1996, 1, 1, 0, 0)\n",
    "# 2009\n",
    "council_merge.loc[111, \"Entered office\"] = datetime(2010, 1, 1, 0, 0)\n",
    "# 2010\n",
    "council_merge.loc[112, \"Entered office\"] = datetime(2011, 1, 1, 0, 0)\n",
    "council_merge.loc[113, \"Entered office\"] = datetime(2011, 1, 1, 0, 0)\n",
    "# 2017\n",
    "council_merge.loc[116, \"Entered office\"] = datetime(2018, 1, 1, 0, 0)\n"
   ]
  },
  {
   "cell_type": "code",
   "execution_count": 6,
   "metadata": {},
   "outputs": [],
   "source": [
    "# create year-by-year dataset and calculate summary stats\n",
    "data = pd.DataFrame()\n",
    "for i, year in enumerate(range(1848,2020)):\n",
    "    data.loc[i,\"year\"] = year\n",
    "    br_nr = 1\n",
    "    br_age = 0\n",
    "    temp = council_merge[(council_merge['Entered office'] <= '{}-11-30'.format(year)) & ((council_merge['Left office'] > '{}-10-30'.format(year)))]\n",
    "    for j, member in temp.iterrows():\n",
    "        data.loc[i,\"BR_{}\".format(member['Seq'][0:1])] =  member['Name']\n",
    "        br_nr += 1\n",
    "        br_age += year - int(member['birthyear'])\n",
    "    data.loc[i, 'mean_age'] = br_age / (br_nr-1)\n",
    "    data.loc[i, 'nr_parties'] = len(temp.Party.unique())\n",
    "    data.loc[i, 'nr_acad'] = temp.Akademiker.sum()\n",
    "    data.loc[i, 'nr_family'] = temp.family.sum()\n",
    "    data.loc[i, 'nr_jobs'] = len(temp.Beruf.unique())\n",
    "    data.loc[i, 'share_female'] = 100 * (1 - (temp.Geschlecht.sum() / 7))\n",
    "    for party in temp.Party.unique():\n",
    "        data.loc[i, 'share_{}'.format(party)] = 100 * (len(temp[temp.Party == party]) / 7)"
   ]
  },
  {
   "cell_type": "markdown",
   "execution_count": null,
   "metadata": {},
   "outputs": [],
   "source": [
    "---"
   ]
  },
  {
   "cell_type": "markdown",
   "metadata": {},
   "source": [
    "## Altersklassen\n",
    "Basierend auf Volkszählungs- und BFS-Daten"
   ]
  },
  {
   "cell_type": "code",
   "execution_count": 7,
   "metadata": {},
   "outputs": [],
   "source": [
    "# read age trend\n",
    "alter = pd.read_excel(\"input/B.08a.xlsx\", skiprows=3)\n",
    "alter = alter[3:17]"
   ]
  },
  {
   "cell_type": "code",
   "execution_count": 8,
   "metadata": {},
   "outputs": [],
   "source": [
    "# rername columns\n",
    "alter.columns = ['Jahr', '2.5', '7.5', '12.5', '17.5', '22.5', '27.5',\n",
    "       '32.5', '37.5', '42.5', '47.5', '52.5', '57.5',\n",
    "       '62.5', '67.5', '72.5', '77.5', '82.5', '87.5',\n",
    "       'Total', 'Annee']"
   ]
  },
  {
   "cell_type": "code",
   "execution_count": 9,
   "metadata": {},
   "outputs": [],
   "source": [
    "# calculate mean age for given years\n",
    "age_chunks = pd.DataFrame()\n",
    "for i, row in alter[['Jahr','2.5', '7.5', '12.5', '17.5', '22.5', '27.5',\n",
    "       '32.5', '37.5', '42.5', '47.5', '52.5', '57.5',\n",
    "       '62.5', '67.5', '72.5', '77.5', '82.5', '87.5']].iterrows():\n",
    "    year = row['Jahr'] \n",
    "    row = row.drop(labels=['Jahr'])\n",
    "    total = row.sum()\n",
    "    calc = 0\n",
    "    for j, number in row.iteritems():\n",
    "        calc += float(j)*float(number)\n",
    "    age_chunks.loc[i, \"Jahr\"] = str(year)[0:4]\n",
    "    age_chunks.loc[i, \"Mean_age\"] = calc/total"
   ]
  },
  {
   "cell_type": "code",
   "execution_count": 10,
   "metadata": {},
   "outputs": [],
   "source": [
    "# create list of yearly data (starting 1860)\n",
    "age_years = pd.DataFrame()\n",
    "for i, year in enumerate(range(1860,1991)):\n",
    "    age_years.loc[i, \"Jahr\"] = year\n",
    "    if age_chunks.Jahr.isin(['{}'.format(int(year))]).any():\n",
    "        age_years.loc[i, \"age_population\"] = age_chunks[age_chunks.Jahr == str(year)][\"Mean_age\"].values[0]"
   ]
  },
  {
   "cell_type": "code",
   "execution_count": 11,
   "metadata": {},
   "outputs": [],
   "source": [
    "# interpolate missing years\n",
    "age_years.age_population = age_years.age_population.interpolate()"
   ]
  },
  {
   "cell_type": "code",
   "execution_count": 12,
   "metadata": {},
   "outputs": [],
   "source": [
    "# import bfs data (https://www.pxweb.bfs.admin.ch/pxweb/de/px-x-0102020000_103/px-x-0102020000_103/px-x-0102020000_103.px)\n",
    "age_years_bfs = pd.read_csv(\"input/px-x-0102020000_103.csv\", encoding = \"ISO-8859-1\", delimiter=\";\", skiprows=1)"
   ]
  },
  {
   "cell_type": "code",
   "execution_count": 13,
   "metadata": {},
   "outputs": [],
   "source": [
    "# clean data\n",
    "age_years_bfs['Alter'] = age_years_bfs['Alter'].apply(lambda x: x.split(\" Jahr\")[0])\n",
    "age_years_bfs = age_years_bfs.drop(columns=[\"Demografische Komponente\", \"Staatsangehörigkeit (Kategorie)\", \"Geschlecht\", 'Alter'])"
   ]
  },
  {
   "cell_type": "code",
   "execution_count": 14,
   "metadata": {},
   "outputs": [],
   "source": [
    "# transpose dataframe\n",
    "age_years_bfs = age_years_bfs.transpose()"
   ]
  },
  {
   "cell_type": "code",
   "execution_count": 15,
   "metadata": {},
   "outputs": [],
   "source": [
    "# calculate mean age for each year\n",
    "for i, row in age_years_bfs.iterrows():\n",
    "    total = row.sum()\n",
    "    age_total = 0\n",
    "    for j, grp in row.iteritems():\n",
    "        if j == 99:\n",
    "            j = 102.5\n",
    "        age_total += j * grp\n",
    "    age_years_bfs.loc[i, \"mean_age\"] = age_total / total"
   ]
  },
  {
   "cell_type": "code",
   "execution_count": 16,
   "metadata": {},
   "outputs": [],
   "source": [
    "# prepare data for merge\n",
    "age_years_bfs = age_years_bfs[[\"mean_age\"]].reset_index()\n",
    "age_years_bfs.columns = [\"year\", \"age_population\"]\n",
    "age_years.columns = [\"year\", \"age_population\"]\n",
    "age_years = age_years[:111]"
   ]
  },
  {
   "cell_type": "code",
   "execution_count": 17,
   "metadata": {},
   "outputs": [],
   "source": [
    "# append bfs data to census data\n",
    "age_years = age_years.append(age_years_bfs)"
   ]
  },
  {
   "cell_type": "code",
   "execution_count": 18,
   "metadata": {},
   "outputs": [],
   "source": [
    "# change column type\n",
    "age_years.year = age_years.year.astype('float')"
   ]
  },
  {
   "cell_type": "code",
   "execution_count": 19,
   "metadata": {},
   "outputs": [],
   "source": [
    "# merge age data with main year-by-year dataset\n",
    "data = pd.merge(data, age_years, how='left', on=\"year\")"
   ]
  },
  {
   "cell_type": "markdown",
   "execution_count": null,
   "metadata": {},
   "outputs": [],
   "source": [
    "---"
   ]
  },
  {
   "cell_type": "markdown",
   "metadata": {},
   "source": [
    "## Parteistärken\n",
    "Parteistärken aufgrund der historischen Sitzverteilungen im Nationalrat ermitteln und Index erstellen, der beschreibt, wie gut der Bundesrat diese Machteverhältnisse repräsentiert"
   ]
  },
  {
   "cell_type": "code",
   "execution_count": 20,
   "metadata": {},
   "outputs": [],
   "source": [
    "# import historical data\n",
    "parteistaerke = pd.read_excel(\"input/X.06.xlsx\", skiprows=16, header=None)"
   ]
  },
  {
   "cell_type": "code",
   "execution_count": 21,
   "metadata": {},
   "outputs": [],
   "source": [
    "# rename columns\n",
    "parteistaerke.columns = [\"Jahr\", \"FDP/PRD\", \"LPS/PLS\", \"CVP/PDC\", \"Konservative\", \"EVP\", \"soz.-pol., Demokr\",\n",
    "                         \"SPS/PSS\", \"SVP/UDC\", \"Kommunisten / PdA.\", \"LdU\", \"div.\", \"Nation. Aktion / SD\",\n",
    "                         \"POCH / GPS\", \"Autopartei\", \"Lega\", \"Total\", \"(leer)\", \"SR_FDP/PRD\", \"SR_LPS/PLS\", \"SR_CVP/PDC\",\n",
    "                         \"SR_Konservative\", \"SR_soz.-pol., Demokr\", \"SR_SPS/PSS\", \"SR_SVP/UDC\", \"SR_LdU\",\n",
    "                         \"SR_div.\", \"SR_Total\"]"
   ]
  },
  {
   "cell_type": "code",
   "execution_count": 22,
   "metadata": {},
   "outputs": [],
   "source": [
    "# import BFS and clean data (from 1919 onwards) (https://www.bfs.admin.ch/bfs/de/home/statistiken/politik/wahlen/nationalratswahlen.assetdetail.11048413.html)\n",
    "parteistaerke_bfs = pd.read_excel(\"input/je-d-17.02.02.02.01.01.xlsx\", skiprows=1, index_col=0)\n",
    "parteistaerke_bfs = parteistaerke_bfs[:25]\n",
    "parteistaerke_bfs = parteistaerke_bfs.transpose().reset_index()\n",
    "parteistaerke_bfs['index'] = parteistaerke_bfs['index'].apply(lambda x: str(x)[0:4])"
   ]
  },
  {
   "cell_type": "code",
   "execution_count": 23,
   "metadata": {},
   "outputs": [],
   "source": [
    "# rename columns\n",
    "parteistaerke_bfs.columns = ['index', 'Total', \"FDP/PRD\", \"CVP/PDC\", \"SPS/PSS\", \"SVP/UDC\", 'Dem. ', 'LPS/PLS',\n",
    "       'LdU', 'EVP', 'CSP', 'GLP', 'BDP/PBD', 'PdA ', 'PSA ', 'POCH', 'GPS',\n",
    "       'FGA 4)', 'Sol. 5)', 'SD', 'Rep. 6)', 'EDU', 'FPS', 'Lega', 'MCR',\n",
    "       'Übrige 7)']"
   ]
  },
  {
   "cell_type": "code",
   "execution_count": 24,
   "metadata": {},
   "outputs": [],
   "source": [
    "# prepare datasets for merge\n",
    "parteistaerke['BDP/PBD'] = 0\n",
    "parteistaerke_bfs['BDP/PBD'] = parteistaerke_bfs['BDP/PBD'].apply(lambda x: str(x).replace(\"*\", \"0\"))\n",
    "parteistaerke_bfs['LPS/PLS'] = parteistaerke_bfs['LPS/PLS'].apply(lambda x: str(x).replace(\"*\", \"0\"))\n",
    "parteistaerke_bfs['LPS/PLS'] = parteistaerke_bfs['LPS/PLS'].apply(lambda x: str(x).replace(\"-> FDP\", \"0\"))\n",
    "parteistaerke = parteistaerke[[\"Jahr\", \"FDP/PRD\", \"CVP/PDC\", \"SPS/PSS\", \"SVP/UDC\", 'BDP/PBD', 'LPS/PLS', \"Total\"]]\n",
    "parteistaerke_bfs = parteistaerke_bfs[['index', \"FDP/PRD\", \"CVP/PDC\", \"SPS/PSS\", \"SVP/UDC\", 'BDP/PBD', 'LPS/PLS', 'Total']]\n",
    "parteistaerke = parteistaerke[:23]\n",
    "parteistaerke_bfs.columns = [\"Jahr\", \"FDP/PRD\", \"CVP/PDC\", \"SPS/PSS\", \"SVP/UDC\", 'BDP/PBD', 'LPS/PLS', \"Total\"]"
   ]
  },
  {
   "cell_type": "code",
   "execution_count": 25,
   "metadata": {},
   "outputs": [],
   "source": [
    "# append bfs data to historical data\n",
    "parteistaerke = parteistaerke.append(parteistaerke_bfs, ignore_index=True)\n",
    "parteistaerke = parteistaerke.fillna(0)"
   ]
  },
  {
   "cell_type": "code",
   "execution_count": 26,
   "metadata": {},
   "outputs": [],
   "source": [
    "# calculcate share for each BR-party\n",
    "for col in [\"FDP/PRD\", \"CVP/PDC\", \"SPS/PSS\", \"SVP/UDC\", 'BDP/PBD', 'LPS/PLS']:\n",
    "    for i, row in parteistaerke.iterrows():\n",
    "        parteistaerke.loc[i, \"population_share_{}\".format(col)] = 100 / int(row['Total']) * int(row[col])"
   ]
  },
  {
   "cell_type": "code",
   "execution_count": 27,
   "metadata": {},
   "outputs": [],
   "source": [
    "# subset data\n",
    "parteistaerke = parteistaerke[['Jahr', 'population_share_FDP/PRD', 'population_share_CVP/PDC',\n",
    "       'population_share_SPS/PSS', 'population_share_SVP/UDC',\n",
    "       'population_share_BDP/PBD', 'population_share_LPS/PLS']]\n",
    "parteistaerke['Jahr'] = parteistaerke['Jahr'].apply(int)"
   ]
  },
  {
   "cell_type": "code",
   "execution_count": 28,
   "metadata": {},
   "outputs": [],
   "source": [
    "# expand data to each year (inluding years inbetween elections)\n",
    "partei_years = pd.DataFrame()\n",
    "index_list = []\n",
    "for year in range(1848,2020):\n",
    "    years = parteistaerke.Jahr.tolist()\n",
    "    if (year in years):\n",
    "        jahr = year\n",
    "    elif (year-1 in parteistaerke.Jahr.tolist()):\n",
    "        jahr = year-1\n",
    "    elif (year-2 in parteistaerke.Jahr.tolist()):\n",
    "        jahr = year-2\n",
    "    elif (year-3 in parteistaerke.Jahr.tolist()):\n",
    "        jahr = year-3\n",
    "\n",
    "    partei_years = partei_years.append(parteistaerke[parteistaerke.Jahr == jahr][['Jahr', 'population_share_FDP/PRD', 'population_share_CVP/PDC',\n",
    "       'population_share_SPS/PSS', 'population_share_SVP/UDC',\n",
    "       'population_share_BDP/PBD', 'population_share_LPS/PLS']], ignore_index=True)\n",
    "    index_list.append(year)\n",
    "partei_years['year'] = index_list"
   ]
  },
  {
   "cell_type": "code",
   "execution_count": 29,
   "metadata": {},
   "outputs": [],
   "source": [
    "# merge parties with main year-by-year dataset\n",
    "data = pd.merge(data, partei_years, how='left', on='year')"
   ]
  },
  {
   "cell_type": "code",
   "execution_count": 30,
   "metadata": {},
   "outputs": [],
   "source": [
    "# replace NAs with 0\n",
    "data = data.fillna(0)"
   ]
  },
  {
   "cell_type": "code",
   "execution_count": 31,
   "metadata": {},
   "outputs": [],
   "source": [
    "# calculate:\n",
    "## yearly difference of share in BR and share in NR for each BR-party (in case the party was part of the BR in the respective year)\n",
    "for i, party in enumerate(['FDP/PRD', 'CVP/PDC', 'BDP/PBD', 'SVP/UDC', 'SPS/PSS', 'LPS/PLS']):\n",
    "    difference = data[\"share_{}\".format(party)] - data[\"population_share_{}\".format(party)]\n",
    "    for j, val in data[\"share_{}\".format(party)].iteritems():\n",
    "        if val == 0:\n",
    "            difference[j] = 0\n",
    "    ## store absolute value of this difference divided by 100 -> leads to a number between 0 and 1\n",
    "    data[\"diff_{}\".format(party)] = (abs(difference) / 100)"
   ]
  },
  {
   "cell_type": "code",
   "execution_count": 32,
   "metadata": {},
   "outputs": [],
   "source": [
    "# summarize all previously calculated differences\n",
    "data[\"BR_closeness\"] = data[[\"diff_FDP/PRD\", \"diff_CVP/PDC\", \"diff_BDP/PBD\", \"diff_SVP/UDC\", \"diff_SPS/PSS\", 'diff_LPS/PLS']].sum(axis=1)\n",
    "# subtract this sum from 1 -> 1: good representation; 0: bad representation\n",
    "data[\"BR_closeness\"] = 1-data[\"BR_closeness\"]"
   ]
  },
  {
   "cell_type": "markdown",
   "execution_count": null,
   "metadata": {},
   "outputs": [],
   "source": [
    "---"
   ]
  },
  {
   "cell_type": "markdown",
   "execution_count": 337,
   "metadata": {},
   "outputs": [],
   "source": [
    "# Kantonale Vertretung\n",
    "Brechnung der kantonalen / regionalen Vertretung im Bundesrat seit 1848. Zusätzlich: Differenz ermitteln zu der Anzahl Sitze und Tage die dem Kanton / der Region gemäss Einwohnerzahlen 2018 zugestanden hätten."
   ]
  },
  {
   "cell_type": "markdown",
   "execution_count": null,
   "metadata": {},
   "outputs": [],
   "source": [
    "### Kantone"
   ]
  },
  {
   "cell_type": "code",
   "execution_count": 33,
   "metadata": {},
   "outputs": [],
   "source": [
    "# import list of cantons from wikipedia\n",
    "link = \"https://de.wikipedia.org/wiki/Kanton_(Schweiz)\"\n",
    "kantone = pd.read_html(link,header=0)[0]"
   ]
  },
  {
   "cell_type": "code",
   "execution_count": 34,
   "metadata": {},
   "outputs": [],
   "source": [
    "# import population count from BFS\n",
    "kantone_bfs = pd.read_excel(\"input/je-d-21.03.02.xlsx\", skiprows=3, index_col=0)\n",
    "kantone_bfs = kantone_bfs.drop(columns=[\"Jahre\", \"Schweiz\"])[3:4].transpose().reset_index()\n",
    "kantone_bfs.columns = [\"Abk.\", \"Einwohner\"]\n",
    "kantone_bfs.Einwohner = kantone_bfs.Einwohner * 1000"
   ]
  },
  {
   "cell_type": "code",
   "execution_count": 35,
   "metadata": {},
   "outputs": [],
   "source": [
    "# merge imported datasets\n",
    "kantone = pd.merge(kantone, kantone_bfs, how=\"left\", on=\"Abk.\")"
   ]
  },
  {
   "cell_type": "code",
   "execution_count": 36,
   "metadata": {},
   "outputs": [],
   "source": [
    "# only keep necessary columns\n",
    "kantone = kantone[['Abk.', 'Kanton', 'Einwohner', 'Bei­tritt']]"
   ]
  },
  {
   "cell_type": "code",
   "execution_count": 37,
   "metadata": {},
   "outputs": [],
   "source": [
    "# group information about BRs by canton (count descriptive values)\n",
    "nr_br_canton = council_merge.groupby(\"Kanton\").count()[['Name']].reset_index()\n",
    "nr_br_canton.columns = ['Kanton', 'NR_BR']"
   ]
  },
  {
   "cell_type": "code",
   "execution_count": 38,
   "metadata": {},
   "outputs": [],
   "source": [
    "# calculate time in office for each BR (from date of election to date he/she left the office)\n",
    "council_merge['time_in_office'] = (council_merge['Left office']-council_merge['Election']).astype('timedelta64[h]')"
   ]
  },
  {
   "cell_type": "code",
   "execution_count": 39,
   "metadata": {},
   "outputs": [],
   "source": [
    "# sum time in office by canton\n",
    "time_br_canton = council_merge[['Kanton', 'time_in_office']].groupby(\"Kanton\").sum().reset_index()"
   ]
  },
  {
   "cell_type": "code",
   "execution_count": 40,
   "metadata": {},
   "outputs": [],
   "source": [
    "# merge datasets\n",
    "share_kanton = pd.merge(kantone, time_br_canton, how='left', on='Kanton')\n",
    "share_kanton = pd.merge(share_kanton, nr_br_canton, how='left', on='Kanton')"
   ]
  },
  {
   "cell_type": "code",
   "execution_count": 41,
   "metadata": {},
   "outputs": [],
   "source": [
    "# remove unused rows\n",
    "share_kanton = share_kanton.drop(share_kanton.index[26])"
   ]
  },
  {
   "cell_type": "code",
   "execution_count": 42,
   "metadata": {},
   "outputs": [],
   "source": [
    "# create weighted population column / since Jura official exists since 1979 it cannot claim as much BR seats for the time since 1848\n",
    "share_kanton['size_weighted'] = share_kanton['Einwohner'].apply(int)\n",
    "share_kanton.loc[share_kanton['Kanton'] == \"Jura\", 'size_weighted'] = int(share_kanton.loc[share_kanton['Kanton'] == \"Jura\", 'size_weighted'].values[0]) * 1 / (2019 - 1848) * (2019 - 1979)"
   ]
  },
  {
   "cell_type": "code",
   "execution_count": 43,
   "metadata": {},
   "outputs": [],
   "source": [
    "# calculate nr of BR seats each canton would be entitled to based on its population in 2018 / given the total amount of BR\n",
    "share_kanton[\"BR_calc\"] = share_kanton.NR_BR.sum() / share_kanton['size_weighted'].sum() * share_kanton['size_weighted']\n",
    "share_kanton[\"BR_calc\"] = share_kanton[\"BR_calc\"].round(0)"
   ]
  },
  {
   "cell_type": "code",
   "execution_count": 44,
   "metadata": {},
   "outputs": [],
   "source": [
    "# calculate time in office (h) each canton would be entitled to based on its population in 2018 / given the total time spent in office\n",
    "share_kanton[\"time_calc\"] = share_kanton.time_in_office.sum() / share_kanton['size_weighted'].sum() * share_kanton['size_weighted']\n",
    "share_kanton[\"time_calc\"] = share_kanton[\"time_calc\"].round(0)"
   ]
  },
  {
   "cell_type": "code",
   "execution_count": 45,
   "metadata": {},
   "outputs": [],
   "source": [
    "# calculate difference between real values and the ones which the canton would be entitled to\n",
    "share_kanton['BR_diff'] =  share_kanton['NR_BR'] - share_kanton['BR_calc']\n",
    "share_kanton['time_diff'] =  (share_kanton['time_in_office'] - share_kanton['time_calc']).round(0)"
   ]
  },
  {
   "cell_type": "code",
   "execution_count": 46,
   "metadata": {},
   "outputs": [],
   "source": [
    "# fix for cantons which didn't have a BR\n",
    "for i, kte in share_kanton.iterrows():\n",
    "    if (np.isnan(kte['BR_diff'])):\n",
    "        share_kanton.loc[i, 'BR_diff'] = -kte['BR_calc']\n",
    "    if (np.isnan(kte['time_diff'])):\n",
    "        share_kanton.loc[i, 'time_diff'] = -kte['time_calc']"
   ]
  },
  {
   "cell_type": "code",
   "execution_count": 47,
   "metadata": {},
   "outputs": [
    {
     "data": {
      "text/plain": "3672.6719187675067"
     },
     "execution_count": 47,
     "metadata": {},
     "output_type": "execute_result"
    }
   ],
   "source": [
    "# calculcate mean time in office\n",
    "council_merge['time_in_office'].mean() / 24"
   ]
  },
  {
   "cell_type": "markdown",
   "execution_count": 1033,
   "metadata": {},
   "outputs": [],
   "source": [
    "### Regionen"
   ]
  },
  {
   "cell_type": "code",
   "execution_count": 48,
   "metadata": {},
   "outputs": [],
   "source": [
    "# collect neccessary data\n",
    "share_region = share_kanton[['Abk.', 'time_in_office', 'NR_BR', 'size_weighted']]\n",
    "share_region.columns = ['kte_kurz', 'time_in_office', 'NR_BR', 'size_weighted']"
   ]
  },
  {
   "cell_type": "code",
   "execution_count": 49,
   "metadata": {},
   "outputs": [
    {
     "name": "stderr",
     "output_type": "stream",
     "text": "/Users/sco/miniconda3/lib/python3.7/site-packages/pandas/core/indexing.py:362: SettingWithCopyWarning: \nA value is trying to be set on a copy of a slice from a DataFrame.\nTry using .loc[row_indexer,col_indexer] = value instead\n\nSee the caveats in the documentation: http://pandas.pydata.org/pandas-docs/stable/indexing.html#indexing-view-versus-copy\n  self.obj[key] = _infer_fill_value(value)\n/Users/sco/miniconda3/lib/python3.7/site-packages/pandas/core/indexing.py:543: SettingWithCopyWarning: \nA value is trying to be set on a copy of a slice from a DataFrame.\nTry using .loc[row_indexer,col_indexer] = value instead\n\nSee the caveats in the documentation: http://pandas.pydata.org/pandas-docs/stable/indexing.html#indexing-view-versus-copy\n  self.obj[item] = s\n"
    }
   ],
   "source": [
    "# add information about the regions (based on BFS definition)\n",
    "share_region.loc[share_region.kte_kurz.isin([\"FR\", \"BE\", \"SO\", \"NE\", \"JU\"]), \"region\"] = \"Espace Mittelland\" ## inkl. Jura\n",
    "share_region.loc[share_region.kte_kurz.isin([\"GE\", \"VD\", \"VS\"]), \"region\"] = \"Genferseeregion\" ##inkl. NE\n",
    "share_region.loc[share_region.kte_kurz.isin([\"TI\"]), \"region\"] = \"Italienische Schweiz\" ##ohne GR\n",
    "share_region.loc[share_region.kte_kurz.isin([\"ZH\"]), \"region\"] = \"Zürich\"\n",
    "share_region.loc[share_region.kte_kurz.isin([\"GL\", \"SH\", \"AR\", \"AI\", \"SG\", \"GR\", \"TG\"]), \"region\"] = \"Ostschweiz\"\n",
    "share_region.loc[share_region.kte_kurz.isin([\"LU\", \"UR\", \"SZ\", \"OW\", \"NW\", \"ZG\"]), \"region\"] = \"Zentralschweiz\"\n",
    "share_region.loc[share_region.kte_kurz.isin([\"BS\", \"BL\", \"AG\"]), \"region\"] = \"Nordwestschweiz\""
   ]
  },
  {
   "cell_type": "code",
   "execution_count": 50,
   "metadata": {},
   "outputs": [],
   "source": [
    "# sum 'time_in_office', 'NR_BR' and 'size_weighted' by region\n",
    "share_region = share_region.fillna(0)\n",
    "share_region = share_region.groupby(\"region\").sum().reset_index()"
   ]
  },
  {
   "cell_type": "code",
   "execution_count": 51,
   "metadata": {},
   "outputs": [],
   "source": [
    "# calculate nr of BR seats each region would be entitled to based on its population in 2018 / given the total amount of BR\n",
    "share_region[\"BR_calc\"] = share_region.NR_BR.sum() / share_region['size_weighted'].sum() * share_region['size_weighted']\n",
    "share_region[\"BR_calc\"] = share_region[\"BR_calc\"].round(0)"
   ]
  },
  {
   "cell_type": "code",
   "execution_count": 52,
   "metadata": {},
   "outputs": [],
   "source": [
    "# calculate time in office (h) each region would be entitled to based on its population in 2018 / given the total time spent in office\n",
    "share_region[\"time_calc\"] = share_region.time_in_office.sum() / share_region['size_weighted'].sum() * share_region['size_weighted']\n",
    "share_region[\"time_calc\"] = share_region[\"time_calc\"].round(0)"
   ]
  },
  {
   "cell_type": "code",
   "execution_count": 53,
   "metadata": {},
   "outputs": [],
   "source": [
    "# calculate difference between real values and the ones which the canton would be entitled to\n",
    "share_region['BR_diff'] =  share_region['NR_BR'] - share_region['BR_calc']\n",
    "share_region['time_diff'] =  share_region['time_in_office'] - share_region['time_calc']"
   ]
  },
  {
   "cell_type": "code",
   "execution_count": 953,
   "metadata": {},
   "outputs": [
    {
     "data": {
      "text/html": "<div>\n<style scoped>\n    .dataframe tbody tr th:only-of-type {\n        vertical-align: middle;\n    }\n\n    .dataframe tbody tr th {\n        vertical-align: top;\n    }\n\n    .dataframe thead th {\n        text-align: right;\n    }\n</style>\n<table border=\"1\" class=\"dataframe\">\n  <thead>\n    <tr style=\"text-align: right;\">\n      <th></th>\n      <th>region</th>\n      <th>time_in_office</th>\n      <th>NR_BR</th>\n      <th>size_weighted</th>\n      <th>BR_calc</th>\n      <th>time_calc</th>\n      <th>BR_diff</th>\n      <th>time_diff</th>\n    </tr>\n  </thead>\n  <tbody>\n    <tr>\n      <th>3</th>\n      <td>Nordwestschweiz</td>\n      <td>1063008.0</td>\n      <td>8.0</td>\n      <td>1.151919e+06</td>\n      <td>16.0</td>\n      <td>1433536.0</td>\n      <td>-8.0</td>\n      <td>-370528.0</td>\n    </tr>\n    <tr>\n      <th>5</th>\n      <td>Zentralschweiz</td>\n      <td>930384.0</td>\n      <td>8.0</td>\n      <td>8.060710e+05</td>\n      <td>11.0</td>\n      <td>1003137.0</td>\n      <td>-3.0</td>\n      <td>-72753.0</td>\n    </tr>\n    <tr>\n      <th>6</th>\n      <td>Zürich</td>\n      <td>1494106.0</td>\n      <td>20.0</td>\n      <td>1.504346e+06</td>\n      <td>21.0</td>\n      <td>1872124.0</td>\n      <td>-1.0</td>\n      <td>-378018.0</td>\n    </tr>\n    <tr>\n      <th>1</th>\n      <td>Genferseeregion</td>\n      <td>1773620.0</td>\n      <td>24.0</td>\n      <td>1.629841e+06</td>\n      <td>23.0</td>\n      <td>2028299.0</td>\n      <td>1.0</td>\n      <td>-254679.0</td>\n    </tr>\n    <tr>\n      <th>4</th>\n      <td>Ostschweiz</td>\n      <td>1552330.0</td>\n      <td>18.0</td>\n      <td>1.169358e+06</td>\n      <td>17.0</td>\n      <td>1455239.0</td>\n      <td>1.0</td>\n      <td>97091.0</td>\n    </tr>\n    <tr>\n      <th>2</th>\n      <td>Italienische Schweiz</td>\n      <td>700258.0</td>\n      <td>8.0</td>\n      <td>3.537090e+05</td>\n      <td>5.0</td>\n      <td>440183.0</td>\n      <td>3.0</td>\n      <td>260075.0</td>\n    </tr>\n    <tr>\n      <th>0</th>\n      <td>Espace Mittelland</td>\n      <td>2974724.0</td>\n      <td>33.0</td>\n      <td>1.812740e+06</td>\n      <td>26.0</td>\n      <td>2255913.0</td>\n      <td>7.0</td>\n      <td>718811.0</td>\n    </tr>\n  </tbody>\n</table>\n</div>",
      "text/plain": "                 region  time_in_office  NR_BR  size_weighted  BR_calc  \\\n3       Nordwestschweiz       1063008.0    8.0   1.151919e+06     16.0   \n5        Zentralschweiz        930384.0    8.0   8.060710e+05     11.0   \n6                Zürich       1494106.0   20.0   1.504346e+06     21.0   \n1       Genferseeregion       1773620.0   24.0   1.629841e+06     23.0   \n4            Ostschweiz       1552330.0   18.0   1.169358e+06     17.0   \n2  Italienische Schweiz        700258.0    8.0   3.537090e+05      5.0   \n0     Espace Mittelland       2974724.0   33.0   1.812740e+06     26.0   \n\n   time_calc  BR_diff  time_diff  \n3  1433536.0     -8.0  -370528.0  \n5  1003137.0     -3.0   -72753.0  \n6  1872124.0     -1.0  -378018.0  \n1  2028299.0      1.0  -254679.0  \n4  1455239.0      1.0    97091.0  \n2   440183.0      3.0   260075.0  \n0  2255913.0      7.0   718811.0  "
     },
     "execution_count": 953,
     "metadata": {},
     "output_type": "execute_result"
    }
   ],
   "source": []
  },
  {
   "cell_type": "markdown",
   "execution_count": null,
   "metadata": {},
   "outputs": [],
   "source": [
    "## Export der Daten"
   ]
  },
  {
   "cell_type": "code",
   "execution_count": 60,
   "metadata": {},
   "outputs": [],
   "source": [
    "# Export information about BR since 1848\n",
    "data[['year', 'BR_closeness']].to_csv(\"output/viz_br_parties.csv\", index=False)\n",
    "data[['year', 'share_female']].to_csv(\"output/viz_br_frauenanteil.csv\", index=False)\n",
    "data[['year', 'mean_age', 'age_population']].to_csv(\"output/viz_altersverteilung.csv\", index=False)\n",
    "data[['year', 'nr_family']].to_csv(\"output/viz_br_social_mobility.csv\", index=False)\n",
    "#data.to_csv(\"output/full_data.csv\", index=False)"
   ]
  },
  {
   "cell_type": "code",
   "execution_count": 55,
   "metadata": {},
   "outputs": [],
   "source": [
    "share_kanton.to_csv(\"output/kantone_br_verteilung.csv\", index=False)"
   ]
  },
  {
   "cell_type": "code",
   "execution_count": 56,
   "metadata": {},
   "outputs": [
    {
     "name": "stderr",
     "output_type": "stream",
     "text": "/Users/sco/miniconda3/lib/python3.7/site-packages/ipykernel_launcher.py:7: SettingWithCopyWarning: \nA value is trying to be set on a copy of a slice from a DataFrame.\nTry using .loc[row_indexer,col_indexer] = value instead\n\nSee the caveats in the documentation: http://pandas.pydata.org/pandas-docs/stable/indexing.html#indexing-view-versus-copy\n  import sys\n"
    }
   ],
   "source": [
    "# Prepare data of cantons for export\n",
    "## keep only neccessary columns\n",
    "viz_kanton = share_kanton[[\"Abk.\", \"Kanton\", \"BR_diff\", \"time_diff\"]]\n",
    "## rename columns\n",
    "viz_kanton.columns = [\"kte_kurz\", \"Kanton\", \"BR_diff\", \"time_diff\"]\n",
    "## reformat time difference from h to d\n",
    "viz_kanton[\"time_diff\"] = (viz_kanton[\"time_diff\"] / 24).round(0)"
   ]
  },
  {
   "cell_type": "code",
   "execution_count": 59,
   "metadata": {},
   "outputs": [],
   "source": [
    "# Prepare geographical data\n",
    "viz_kanton[[\"kte_kurz\", \"BR_diff\", \"time_diff\"]].to_csv(\"output/viz_kantone_br_bars_print.csv\", index=False)\n",
    "viz_kanton[[\"kte_kurz\", \"BR_diff\"]].to_csv(\"output/viz_kantone_br_bars_online.csv\", index=False)\n",
    "share_kanton.to_csv(\"output/viz_kantone_br_map.csv\", index=False)\n",
    "share_region[['region', 'BR_diff']].to_csv(\"output/viz_regions_br_bars.csv\", index=False)"
   ]
  },
  {
   "cell_type": "code",
   "execution_count": null,
   "metadata": {},
   "outputs": [],
   "source": []
  }
 ],
 "metadata": {
  "kernelspec": {
   "display_name": "Python 3",
   "language": "python",
   "name": "python3"
  },
  "language_info": {
   "codemirror_mode": {
    "name": "ipython",
    "version": 3
   },
   "file_extension": ".py",
   "mimetype": "text/x-python",
   "name": "python",
   "nbconvert_exporter": "python",
   "pygments_lexer": "ipython3",
   "version": "3.7.2"
  }
 },
 "nbformat": 4,
 "nbformat_minor": 4
}